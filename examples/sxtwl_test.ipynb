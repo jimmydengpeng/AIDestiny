{
 "cells": [
  {
   "cell_type": "code",
   "execution_count": 1,
   "metadata": {},
   "outputs": [],
   "source": [
    "import sxtwl"
   ]
  },
  {
   "cell_type": "code",
   "execution_count": 2,
   "metadata": {},
   "outputs": [
    {
     "name": "stdout",
     "output_type": "stream",
     "text": [
      "<sxtwl.Day; proxy of <Swig Object of type 'Day *' at 0x7fe9eaf19740> >\n",
      "<class 'sxtwl.Day'>\n"
     ]
    }
   ],
   "source": [
    "lunar_date = sxtwl.fromLunar(1992, 8, 25, False)\n",
    "print(lunar_date)\n",
    "print(type(lunar_date))"
   ]
  },
  {
   "cell_type": "code",
   "execution_count": 22,
   "metadata": {},
   "outputs": [
    {
     "name": "stdout",
     "output_type": "stream",
     "text": [
      "公历：2025年3月3日 <class 'sxtwl.Day'>\n"
     ]
    },
    {
     "data": {
      "text/plain": [
       "2451545.0"
      ]
     },
     "execution_count": 22,
     "metadata": {},
     "output_type": "execute_result"
    }
   ],
   "source": [
    "# 从公历年月日获取一天的信息\n",
    "# day = sxtwl.fromSolar(1992, 8, 25)\n",
    "day = sxtwl.fromSolar(2025, 3, 3)\n",
    "print(f\"公历：{day.getSolarYear()}年{day.getSolarMonth()}月{day.getSolarDay()}日\", type(day))\n",
    "\n",
    "jd = day.getJieQiJD()\n",
    "jd"
   ]
  },
  {
   "cell_type": "code",
   "execution_count": 21,
   "metadata": {},
   "outputs": [
    {
     "name": "stdout",
     "output_type": "stream",
     "text": [
      "公历：2025年3月4日 <class 'sxtwl.Day'>\n"
     ]
    },
    {
     "data": {
      "text/plain": [
       "2451545.0"
      ]
     },
     "execution_count": 21,
     "metadata": {},
     "output_type": "execute_result"
    }
   ],
   "source": [
    "day2 = sxtwl.fromSolar(2025, 3, 4)\n",
    "print(f\"公历：{day2.getSolarYear()}年{day2.getSolarMonth()}月{day2.getSolarDay()}日\", type(day2))\n",
    "\n",
    "jd2 = day2.getJieQiJD()\n",
    "jd2"
   ]
  },
  {
   "cell_type": "code",
   "execution_count": 29,
   "metadata": {},
   "outputs": [
    {
     "name": "stdout",
     "output_type": "stream",
     "text": [
      "公历：2025年3月5日\n"
     ]
    },
    {
     "data": {
      "text/plain": [
       "2460740.1715546497"
      ]
     },
     "execution_count": 29,
     "metadata": {},
     "output_type": "execute_result"
    }
   ],
   "source": [
    "# day3 = day2.after(1)\n",
    "day3 = sxtwl.fromSolar(2025, 3, 5)\n",
    "print(f\"公历：{day3.getSolarYear()}年{day3.getSolarMonth()}月{day3.getSolarDay()}日\")\n",
    "\n",
    "jd3 = day3.getJieQiJD()\n",
    "jd3"
   ]
  },
  {
   "cell_type": "code",
   "execution_count": 30,
   "metadata": {},
   "outputs": [
    {
     "name": "stdout",
     "output_type": "stream",
     "text": [
      "公历：2026年3月6日\n"
     ]
    },
    {
     "data": {
      "text/plain": [
       "2451545.0"
      ]
     },
     "execution_count": 30,
     "metadata": {},
     "output_type": "execute_result"
    }
   ],
   "source": [
    "# day3 = day2.after(1)\n",
    "day4 = sxtwl.fromSolar(2026, 3, 6)\n",
    "print(f\"公历：{day4.getSolarYear()}年{day4.getSolarMonth()}月{day4.getSolarDay()}日\")\n",
    "\n",
    "jd4 = day4.getJieQiJD()\n",
    "jd4"
   ]
  },
  {
   "cell_type": "code",
   "execution_count": 35,
   "metadata": {},
   "outputs": [
    {
     "name": "stdout",
     "output_type": "stream",
     "text": [
      "公历：2026年3月8日\n"
     ]
    },
    {
     "data": {
      "text/plain": [
       "2451545.0"
      ]
     },
     "execution_count": 35,
     "metadata": {},
     "output_type": "execute_result"
    }
   ],
   "source": [
    "# day3 = day2.after(1)\n",
    "day5 = sxtwl.fromSolar(2026, 3, 8)\n",
    "print(f\"公历：{day5.getSolarYear()}年{day5.getSolarMonth()}月{day5.getSolarDay()}日\")\n",
    "\n",
    "jd5 = day5.getJieQiJD()\n",
    "jd5"
   ]
  },
  {
   "cell_type": "code",
   "execution_count": 34,
   "metadata": {},
   "outputs": [
    {
     "name": "stdout",
     "output_type": "stream",
     "text": [
      "2451545.0 2451545.0 0.0\n",
      "2460740.1715546497 2451545.0 9195.171554649714\n",
      "2451545.0 2460740.1715546497 -9195.171554649714\n",
      "2451545.0 2451545.0 0.0\n"
     ]
    }
   ],
   "source": [
    "print(jd2, jd, jd2-jd)\n",
    "print(jd3, jd2, jd3-jd2)\n",
    "print(jd4, jd3, jd4-jd3)\n",
    "print(jd5, jd4, jd5-jd4)"
   ]
  },
  {
   "cell_type": "code",
   "execution_count": 3,
   "metadata": {},
   "outputs": [],
   "source": [
    "jqmc = [\"冬至\", \"小寒\", \"大寒\", \"立春\", \"雨水\", \"惊蛰\", \"春分\", \"清明\", \"谷雨\", \"立夏\",\n",
    "        \"小满\", \"芒种\", \"夏至\", \"小暑\", \"大暑\", \"立秋\", \"处暑\",\"白露\", \"秋分\", \"寒露\", \n",
    "        \"霜降\",  \"立冬\", \"小雪\", \"大雪\"]"
   ]
  },
  {
   "cell_type": "code",
   "execution_count": 31,
   "metadata": {},
   "outputs": [
    {
     "name": "stdout",
     "output_type": "stream",
     "text": [
      "\n",
      "节气：惊蛰\n",
      "day: <class 'sxtwl.Day'>\n",
      "day: 公历:2025年3月5日\n",
      "jd: 2460740.171554645 <class 'float'>\n",
      "节气时间:2025-3-5 16:7:2\n",
      "last day: 公历:-4712年1月1日\n",
      "相差: 2460740.171554645\n",
      "\n",
      "节气：春分\n",
      "day: <class 'sxtwl.Day'>\n",
      "day: 公历:2025年3月20日\n",
      "jd: 2460755.2091843286 <class 'float'>\n",
      "节气时间:2025-3-20 17:1:14\n",
      "last day: 公历:-4712年1月1日\n",
      "相差: 2460755.2091843286\n",
      "\n",
      "节气：清明\n",
      "day: <class 'sxtwl.Day'>\n",
      "day: 公历:2025年4月4日\n",
      "jd: 2460770.366906484 <class 'float'>\n",
      "节气时间:2025-4-4 20:48:21\n",
      "last day: 公历:-4712年1月1日\n",
      "相差: 2460770.366906484\n"
     ]
    }
   ],
   "source": [
    "import copy\n",
    "\n",
    "\n",
    "_day = sxtwl.fromSolar(2025, 3, 4)\n",
    "_last_day = copy(_day)\n",
    "cnt = 0\n",
    "while True:\n",
    "    # 这里可以使用after或者before，不用担心速度，这里的计算在底层仅仅是+1这么简单\n",
    "    _day = _day.after(1)\n",
    "    # hasJieQi的接口比getJieQiJD速度要快，你也可以使用getJieQiJD来判断是否有节气。\n",
    "    if _day.hasJieQi():\n",
    "        print('\\n节气：%s'% jqmc[_day.getJieQi()])\n",
    "\n",
    "        #获取节气的儒略日数， 如果说你要计算什么时间的相距多少，直接比对儒略日要方便，相信我。\n",
    "\n",
    "        print(\"day:\", type(_day))\n",
    "        print(\"day:\", \"公历:%d年%d月%d日\" % (_day.getSolarYear(), _day.getSolarMonth(), _day.getSolarDay()))\n",
    "\n",
    "        jd = _day.getJieQiJD()\n",
    "        print(\"jd:\", jd, type(jd))\n",
    "\n",
    "    \n",
    "        # 将儒略日数转换成年月日时秒\n",
    "        t = sxtwl.JD2DD(jd)\n",
    "        \n",
    "        # 注意，t.s是小数，需要四舍五入\n",
    "        print(\"节气时间:%d-%d-%d %d:%d:%d\"%(t.Y, t.M, t.D, t.h, t.m, round(t.s)))\n",
    "\n",
    "        \n",
    "        jd_last = _last_day.getJieQiJD()\n",
    "        tt = sxtwl.JD2DD(jd_last)\n",
    "        print(\"last day:\", \"公历:%d年%d月%d日\" % (tt.Y, tt.M, tt.D))\n",
    "\n",
    "        \n",
    "        print(\"相差:\", jd - jd_last)\n",
    "        \n",
    "        \n",
    "        \n",
    "        cnt += 1\n",
    "        if cnt > 2:\n",
    "            break"
   ]
  },
  {
   "cell_type": "code",
   "execution_count": 20,
   "metadata": {},
   "outputs": [
    {
     "name": "stdout",
     "output_type": "stream",
     "text": [
      "小寒 1\n",
      "公历:1998年1月5日\n",
      "节气时间:1998-1-5 21:18:9\n",
      "小寒 1998 1 5 21.0 18.0 9\n",
      "下一个节气: 小寒 1998-1-5 21.0 : 18.0 : 9\n"
     ]
    }
   ],
   "source": [
    "# input: someday (Y, M, D) [sxtwl.Day]\n",
    "# output: 该日距离下一个节气的小时数\n",
    "# algorithm:\n",
    "# 1. 获取该日距离下一个节气的儒略日数\n",
    "# 2. 计算该日距离下一个节气的儒略日数与该日儒略日数的差值\n",
    "# 3. 将差值转换为小时数\n",
    "# 4. 返回小时数\n",
    "from typing import Tuple\n",
    "\n",
    "def get_nearest_jieqi_time(Y, M, D, reverse=False) -> Tuple[str, Tuple[int, int, int, float, float, float]]:\n",
    "    \"\"\"\n",
    "    获取该日距离下一个节气的小时数,\n",
    "\n",
    "    注意: 传入的当天不会检查是否是节气, 如果需要检查, 请先调用hasJieQi()方法\n",
    "\n",
    "    @param Y: 年, M: 月, D: 日\n",
    "    @param reverse: 是否逆向查找\n",
    "\n",
    "    @return: 节气名称, 节气时间(年, 月, 日, 时, 分, 秒)\n",
    "    \"\"\"\n",
    "\n",
    "    day = sxtwl.fromSolar(Y, M, D)\n",
    "    while True:\n",
    "        if reverse:\n",
    "            day = day.before(1)\n",
    "        else:\n",
    "            day = day.after(1)\n",
    "        if day.hasJieQi():\n",
    "            jieqi_name = jqmc[day.getJieQi()]\n",
    "            print(jieqi_name, day.getJieQi())\n",
    "            print(f\"公历:{day.getSolarYear()}年{day.getSolarMonth()}月{day.getSolarDay()}日\")\n",
    "\n",
    "            # 把儒略日数转换为年月日时秒\n",
    "            jd = day.getJieQiJD()\n",
    "            t = sxtwl.JD2DD(jd)\n",
    "            print(f\"节气时间:%d-%d-%d %d:%d:%d\"%(t.Y, t.M, t.D, t.h, t.m, round(t.s)))\n",
    "            return jieqi_name, (t.Y, t.M, t.D, t.h, t.m, round(t.s))\n",
    "\n",
    "    return None, None\n",
    "    \n",
    "\n",
    "jieqi_name, (Y, M, D, h, m, s) = get_nearest_jieqi_time(1998, 1, 15, reverse=True)\n",
    "print(jieqi_name, Y, M, D, h, m, s)\n",
    "print(f\"下一个节气: {jieqi_name} {Y}-{M}-{D} {h} : {m} : {s}\")"
   ]
  },
  {
   "cell_type": "code",
   "execution_count": 22,
   "metadata": {},
   "outputs": [
    {
     "name": "stdout",
     "output_type": "stream",
     "text": [
      "<class 'int'> <class 'int'> <class 'int'> <class 'float'> <class 'float'> <class 'int'>\n",
      "21 18\n",
      "1998-01-15 6:00 1998-1-5 21:18\n",
      "时间间隔：13482 分钟\n",
      "时间间隔：9天 8小时 42分钟\n",
      "总天数：9.36天\n",
      "换算后：3年 1个月 13天\n"
     ]
    }
   ],
   "source": [
    "from datetime import datetime\n",
    "\n",
    "# 计算起运时间（从出生时刻到）\n",
    "def calculate_delta_time(time1: str, time2: str) -> dict:\n",
    "    \"\"\"计算两个日期之间的时间差并转换为年/月/日格式\n",
    "    \n",
    "    Args:\n",
    "        time1: 第一个日期字符串，格式为 \"YYYY-MM-DD HH:MM\"\n",
    "        time2: 第二个日期字符串，格式为 \"YYYY-MM-DD HH:MM\"\n",
    "        \n",
    "    Return:\n",
    "        包含以下内容的字典:\n",
    "        - raw_minutes: 两个日期之间的总分钟数\n",
    "        - dhm: 天/小时/分钟的分解\n",
    "        - ymds: 年/月/日的分解(使用3天=1年的转换规则)\n",
    "    \"\"\"\n",
    "    format_str = \"%Y-%m-%d %H:%M\"\n",
    "    \n",
    "    # Parse datetime objects\n",
    "    dt1 = datetime.strptime(time1, format_str)\n",
    "    dt2 = datetime.strptime(time2, format_str)\n",
    "\n",
    "    # Calculate minutes between dates\n",
    "    delta_minutes = abs(int((dt2 - dt1).total_seconds() / 60))\n",
    "\n",
    "    # Convert to days, hours, minutes\n",
    "    days = delta_minutes // (24 * 60)\n",
    "    remaining_minutes = delta_minutes % (24 * 60)\n",
    "    hours = remaining_minutes // 60\n",
    "    minutes = remaining_minutes % 60\n",
    "\n",
    "    # Convert to total days including fractional\n",
    "    total_days = days + (hours / 24) + (minutes / (24 * 60))\n",
    "\n",
    "    # Convert to years/months/days using 3 days = 1 year\n",
    "    years = int(total_days // 3)\n",
    "    remaining_days = total_days % 3\n",
    "    months = int(remaining_days * 4)\n",
    "    remaining_months_in_days = (remaining_days * 4) % 1\n",
    "    final_days = int(remaining_months_in_days * 30)\n",
    "\n",
    "    return {\n",
    "        \"raw_minutes\": delta_minutes,\n",
    "        \"dhm\": {\n",
    "            \"days\": days,\n",
    "            \"hours\": hours,\n",
    "            \"minutes\": minutes\n",
    "        },\n",
    "        \"ymds\": {\n",
    "            \"years\": years,\n",
    "            \"months\": months, \n",
    "            \"days\": final_days\n",
    "        }\n",
    "    }\n",
    "\n"
   ]
  },
  {
   "cell_type": "code",
   "execution_count": 48,
   "metadata": {},
   "outputs": [
    {
     "name": "stdout",
     "output_type": "stream",
     "text": [
      "\n",
      "节气: 生日\n",
      "日期: <sxtwl.Day; proxy of <Swig Object of type 'Day *' at 0x7f296c0b64f0> >\n",
      "\n",
      "节气: 白露\n",
      "日期: 公历:1992年9月7日\n"
     ]
    },
    {
     "ename": "AttributeError",
     "evalue": "'str' object has no attribute 'getSolarYear'",
     "output_type": "error",
     "traceback": [
      "\u001b[0;31m---------------------------------------------------------------------------\u001b[0m",
      "\u001b[0;31mAttributeError\u001b[0m                            Traceback (most recent call last)",
      "Cell \u001b[0;32mIn[48], line 47\u001b[0m\n\u001b[1;32m     45\u001b[0m days \u001b[38;5;241m=\u001b[39m \u001b[38;5;241m0\u001b[39m\n\u001b[1;32m     46\u001b[0m temp_date \u001b[38;5;241m=\u001b[39m prev_date\n\u001b[0;32m---> 47\u001b[0m \u001b[38;5;28;01mwhile\u001b[39;00m temp_date\u001b[38;5;241m.\u001b[39mgetSolarYear() \u001b[38;5;241m!=\u001b[39m \u001b[43mcurr_date\u001b[49m\u001b[38;5;241;43m.\u001b[39;49m\u001b[43mgetSolarYear\u001b[49m() \u001b[38;5;129;01mor\u001b[39;00m \\\n\u001b[1;32m     48\u001b[0m       temp_date\u001b[38;5;241m.\u001b[39mgetSolarMonth() \u001b[38;5;241m!=\u001b[39m curr_date\u001b[38;5;241m.\u001b[39mgetSolarMonth() \u001b[38;5;129;01mor\u001b[39;00m \\\n\u001b[1;32m     49\u001b[0m       temp_date\u001b[38;5;241m.\u001b[39mgetSolarDay() \u001b[38;5;241m!=\u001b[39m curr_date\u001b[38;5;241m.\u001b[39mgetSolarDay():\n\u001b[1;32m     50\u001b[0m     temp_date \u001b[38;5;241m=\u001b[39m temp_date\u001b[38;5;241m.\u001b[39mafter(\u001b[38;5;241m1\u001b[39m)\n\u001b[1;32m     51\u001b[0m     days \u001b[38;5;241m+\u001b[39m\u001b[38;5;241m=\u001b[39m \u001b[38;5;241m1\u001b[39m\n",
      "\u001b[0;31mAttributeError\u001b[0m: 'str' object has no attribute 'getSolarYear'"
     ]
    }
   ],
   "source": [
    "import copy\n",
    "\n",
    "# 从公历年月日获取一天的信息\n",
    "# day = sxtwl.fromSolar(2025, 3, 4)\n",
    "day = sxtwl.fromSolar(1992, 8, 25)\n",
    "\n",
    "# 记录节气信息\n",
    "jieqi_data = []\n",
    "cnt = 0\n",
    "\n",
    "jieqi_data.append({\n",
    "    'name': '生日',\n",
    "    'solar_date': day,\n",
    "    'solar_date_str': f\"公历:{day.getSolarYear()}年{day.getSolarMonth()}月{day.getSolarDay()}日\"\n",
    "})\n",
    "\n",
    "while True:\n",
    "    day = day.after(1)\n",
    "    if day.hasJieQi():\n",
    "        # 获取节气信息\n",
    "        jieqi_name = jqmc[day.getJieQi()]\n",
    "        solar_date = f\"公历:{day.getSolarYear()}年{day.getSolarMonth()}月{day.getSolarDay()}日\"\n",
    "       \n",
    "        \n",
    "        # 保存信息\n",
    "        jieqi_data.append({\n",
    "            'name': jieqi_name,\n",
    "            'solar_date': copy(day),\n",
    "            'solar_date_str': solar_date, \n",
    "        })\n",
    "        \n",
    "        cnt += 1\n",
    "        if cnt >= 3:\n",
    "            break\n",
    "\n",
    "# 打印结果            \n",
    "for i, data in enumerate(jieqi_data):\n",
    "    print(f\"\\n节气: {data['name']}\")\n",
    "    print(f\"日期: {data['solar_date_str']}\")\n",
    "    \n",
    "    if i > 0:\n",
    "        # 计算与上一个日期的差距\n",
    "        curr_date = data['solar_date']\n",
    "        prev_date = jieqi_data[i-1]['solar_date']\n",
    "        \n",
    "        # 计算相差的天数\n",
    "            \n",
    "        print(f\"距离上一个日期相差: {curr_date.getSolarDay() - prev_date.getSolarDay()}天\")\n"
   ]
  },
  {
   "cell_type": "code",
   "execution_count": 49,
   "metadata": {},
   "outputs": [
    {
     "ename": "TypeError",
     "evalue": "in method 'toJD', argument 1 of type 'Time &'",
     "output_type": "error",
     "traceback": [
      "\u001b[0;31m---------------------------------------------------------------------------\u001b[0m",
      "\u001b[0;31mTypeError\u001b[0m                                 Traceback (most recent call last)",
      "Cell \u001b[0;32mIn[49], line 1\u001b[0m\n\u001b[0;32m----> 1\u001b[0m jd \u001b[38;5;241m=\u001b[39m \u001b[43msxtwl\u001b[49m\u001b[38;5;241;43m.\u001b[39;49m\u001b[43mtoJD\u001b[49m\u001b[43m(\u001b[49m\u001b[43msxtwl\u001b[49m\u001b[38;5;241;43m.\u001b[39;49m\u001b[43mfromSolar\u001b[49m\u001b[43m(\u001b[49m\u001b[38;5;241;43m2025\u001b[39;49m\u001b[43m,\u001b[49m\u001b[43m \u001b[49m\u001b[38;5;241;43m3\u001b[39;49m\u001b[43m,\u001b[49m\u001b[43m \u001b[49m\u001b[38;5;241;43m4\u001b[39;49m\u001b[43m)\u001b[49m\u001b[43m)\u001b[49m\n",
      "File \u001b[0;32m~/miniconda3/envs/langchain/lib/python3.13/site-packages/sxtwl.py:506\u001b[0m, in \u001b[0;36mtoJD\u001b[0;34m(time)\u001b[0m\n\u001b[1;32m    505\u001b[0m \u001b[38;5;28;01mdef\u001b[39;00m\u001b[38;5;250m \u001b[39m\u001b[38;5;21mtoJD\u001b[39m(time):\n\u001b[0;32m--> 506\u001b[0m     \u001b[38;5;28;01mreturn\u001b[39;00m \u001b[43m_sxtwl\u001b[49m\u001b[38;5;241;43m.\u001b[39;49m\u001b[43mtoJD\u001b[49m\u001b[43m(\u001b[49m\u001b[43mtime\u001b[49m\u001b[43m)\u001b[49m\n",
      "\u001b[0;31mTypeError\u001b[0m: in method 'toJD', argument 1 of type 'Time &'"
     ]
    }
   ],
   "source": [
    "\n",
    "sxtwl.fromSolar(2025, 3, 4).\n"
   ]
  },
  {
   "cell_type": "code",
   "execution_count": 50,
   "metadata": {},
   "outputs": [
    {
     "ename": "AttributeError",
     "evalue": "module 'sxtwl' has no attribute 'Lunar'",
     "output_type": "error",
     "traceback": [
      "\u001b[0;31m---------------------------------------------------------------------------\u001b[0m",
      "\u001b[0;31mAttributeError\u001b[0m                            Traceback (most recent call last)",
      "Cell \u001b[0;32mIn[50], line 31\u001b[0m\n\u001b[1;32m     28\u001b[0m     \u001b[38;5;28;01mreturn\u001b[39;00m nearest_term[\u001b[38;5;241m1\u001b[39m], \u001b[38;5;28mint\u001b[39m(time_difference)\n\u001b[1;32m     30\u001b[0m \u001b[38;5;66;03m# 示例：计算 2025年3月4日 12:00 距离下一个节气的时间\u001b[39;00m\n\u001b[0;32m---> 31\u001b[0m \u001b[38;5;28mprint\u001b[39m(\u001b[43mget_nearest_solar_term\u001b[49m\u001b[43m(\u001b[49m\u001b[38;5;241;43m2025\u001b[39;49m\u001b[43m,\u001b[49m\u001b[43m \u001b[49m\u001b[38;5;241;43m3\u001b[39;49m\u001b[43m,\u001b[49m\u001b[43m \u001b[49m\u001b[38;5;241;43m4\u001b[39;49m\u001b[43m,\u001b[49m\u001b[43m \u001b[49m\u001b[38;5;241;43m12\u001b[39;49m\u001b[43m,\u001b[49m\u001b[43m \u001b[49m\u001b[43mnext_term\u001b[49m\u001b[38;5;241;43m=\u001b[39;49m\u001b[38;5;28;43;01mTrue\u001b[39;49;00m\u001b[43m)\u001b[49m)\n",
      "Cell \u001b[0;32mIn[50], line 5\u001b[0m, in \u001b[0;36mget_nearest_solar_term\u001b[0;34m(year, month, day, hour, next_term)\u001b[0m\n\u001b[1;32m      4\u001b[0m \u001b[38;5;28;01mdef\u001b[39;00m\u001b[38;5;250m \u001b[39m\u001b[38;5;21mget_nearest_solar_term\u001b[39m(year, month, day, hour, next_term\u001b[38;5;241m=\u001b[39m\u001b[38;5;28;01mTrue\u001b[39;00m):\n\u001b[0;32m----> 5\u001b[0m     lunar \u001b[38;5;241m=\u001b[39m \u001b[43msxtwl\u001b[49m\u001b[38;5;241;43m.\u001b[39;49m\u001b[43mLunar\u001b[49m()  \u001b[38;5;66;03m# 实例化天文历\u001b[39;00m\n\u001b[1;32m      6\u001b[0m     dt \u001b[38;5;241m=\u001b[39m datetime(year, month, day, hour, tzinfo\u001b[38;5;241m=\u001b[39mtimezone\u001b[38;5;241m.\u001b[39mutc)\n\u001b[1;32m      7\u001b[0m     timestamp_given \u001b[38;5;241m=\u001b[39m dt\u001b[38;5;241m.\u001b[39mtimestamp()  \u001b[38;5;66;03m# 转换为时间戳（秒）\u001b[39;00m\n",
      "\u001b[0;31mAttributeError\u001b[0m: module 'sxtwl' has no attribute 'Lunar'"
     ]
    }
   ],
   "source": [
    "import sxtwl\n",
    "from datetime import datetime, timezone\n",
    "\n",
    "def get_nearest_solar_term(year, month, day, hour, next_term=True):\n",
    "    lunar = sxtwl.Lunar()  # 实例化天文历\n",
    "    dt = datetime(year, month, day, hour, tzinfo=timezone.utc)\n",
    "    timestamp_given = dt.timestamp()  # 转换为时间戳（秒）\n",
    "\n",
    "    # 获取该年、前一年、下一年的节气时间\n",
    "    solar_terms = []\n",
    "    for y in [year - 1, year, year + 1]:\n",
    "        jieqi_times = lunar.getJieQiTime(y)\n",
    "        for idx, ts in enumerate(jieqi_times):\n",
    "            if ts > 0:  # 有效节气时间\n",
    "                solar_terms.append((ts, sxtwl.JIEQI[idx]))  # (时间戳, 节气名称)\n",
    "\n",
    "    # 按时间排序\n",
    "    solar_terms.sort()\n",
    "\n",
    "    # 找到最近的节气\n",
    "    if next_term:\n",
    "        nearest_term = next((t for t in solar_terms if t[0] > timestamp_given), solar_terms[0])\n",
    "    else:\n",
    "        nearest_term = next((t for t in reversed(solar_terms) if t[0] < timestamp_given), solar_terms[-1])\n",
    "\n",
    "    # 计算时间差（分钟）\n",
    "    time_difference = (nearest_term[0] - timestamp_given) / 60\n",
    "    return nearest_term[1], int(time_difference)\n",
    "\n",
    "# 示例：计算 2025年3月4日 12:00 距离下一个节气的时间\n",
    "print(get_nearest_solar_term(2025, 3, 4, 12, next_term=True))\n"
   ]
  }
 ],
 "metadata": {
  "kernelspec": {
   "display_name": "langchain",
   "language": "python",
   "name": "python3"
  },
  "language_info": {
   "codemirror_mode": {
    "name": "ipython",
    "version": 3
   },
   "file_extension": ".py",
   "mimetype": "text/x-python",
   "name": "python",
   "nbconvert_exporter": "python",
   "pygments_lexer": "ipython3",
   "version": "3.13.2"
  }
 },
 "nbformat": 4,
 "nbformat_minor": 2
}
