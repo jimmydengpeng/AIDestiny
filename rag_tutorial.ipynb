{
 "cells": [
  {
   "cell_type": "markdown",
   "metadata": {},
   "source": [
    "#### Unset common proxy environment variables"
   ]
  },
  {
   "cell_type": "code",
   "execution_count": 1,
   "metadata": {},
   "outputs": [],
   "source": [
    "import os\n",
    "\n",
    "proxy_vars = [\n",
    "    'http_proxy',\n",
    "    'https_proxy',\n",
    "    'ftp_proxy',\n",
    "    'all_proxy',\n",
    "    'HTTP_PROXY', \n",
    "    'HTTPS_PROXY',\n",
    "    'FTP_PROXY',\n",
    "    'ALL_PROXY',\n",
    "    'SOCKS_PROXY',\n",
    "    'socks_proxy'\n",
    "]\n",
    "\n",
    "for var in proxy_vars:\n",
    "    if var in os.environ:\n",
    "        del os.environ[var]"
   ]
  },
  {
   "cell_type": "code",
   "execution_count": 2,
   "metadata": {},
   "outputs": [],
   "source": [
    "from langchain_core.documents import Document"
   ]
  },
  {
   "cell_type": "code",
   "execution_count": 3,
   "metadata": {},
   "outputs": [],
   "source": [
    "# Create example documents about pets with metadata\n",
    "documents = [\n",
    "    Document(\n",
    "        page_content=\"Dogs are great companions, known for their loyalty and friendliness.\",\n",
    "        metadata={\"source\": \"mammal-pets-doc\"},\n",
    "    ),\n",
    "    Document(\n",
    "        page_content=\"Cats are independent pets that often enjoy their own space.\",\n",
    "        metadata={\"source\": \"mammal-pets-doc\"},\n",
    "    ),\n",
    "]"
   ]
  },
  {
   "cell_type": "code",
   "execution_count": 4,
   "metadata": {},
   "outputs": [
    {
     "data": {
      "text/plain": [
       "[Document(metadata={'source': 'mammal-pets-doc'}, page_content='Dogs are great companions, known for their loyalty and friendliness.'),\n",
       " Document(metadata={'source': 'mammal-pets-doc'}, page_content='Cats are independent pets that often enjoy their own space.')]"
      ]
     },
     "execution_count": 4,
     "metadata": {},
     "output_type": "execute_result"
    }
   ],
   "source": [
    "documents"
   ]
  },
  {
   "cell_type": "code",
   "execution_count": 5,
   "metadata": {},
   "outputs": [
    {
     "data": {
      "text/plain": [
       "langchain_core.documents.base.Document"
      ]
     },
     "execution_count": 5,
     "metadata": {},
     "output_type": "execute_result"
    }
   ],
   "source": [
    "type(documents[0])"
   ]
  },
  {
   "cell_type": "markdown",
   "metadata": {},
   "source": [
    "## PDF Loader\n"
   ]
  },
  {
   "cell_type": "code",
   "execution_count": 6,
   "metadata": {},
   "outputs": [],
   "source": [
    "from langchain_community.document_loaders import PyPDFLoader"
   ]
  },
  {
   "cell_type": "code",
   "execution_count": 7,
   "metadata": {},
   "outputs": [
    {
     "name": "stdout",
     "output_type": "stream",
     "text": [
      "107\n"
     ]
    }
   ],
   "source": [
    "file_path = \"pdf/nke-10k-2023.pdf\"\n",
    "\n",
    "loader = PyPDFLoader(file_path)\n",
    "\n",
    "docs = loader.load()\n",
    "\n",
    "print(len(docs))"
   ]
  },
  {
   "cell_type": "code",
   "execution_count": 8,
   "metadata": {},
   "outputs": [
    {
     "data": {
      "text/plain": [
       "{'producer': 'EDGRpdf Service w/ EO.Pdf 22.0.40.0',\n",
       " 'creator': 'EDGAR Filing HTML Converter',\n",
       " 'creationdate': '2023-07-20T16:22:00-04:00',\n",
       " 'title': '0000320187-23-000039',\n",
       " 'author': 'EDGAR Online, a division of Donnelley Financial Solutions',\n",
       " 'subject': 'Form 10-K filed on 2023-07-20 for the period ending 2023-05-31',\n",
       " 'keywords': '0000320187-23-000039; ; 10-K',\n",
       " 'moddate': '2023-07-20T16:22:08-04:00',\n",
       " 'source': 'pdf/nke-10k-2023.pdf',\n",
       " 'total_pages': 107,\n",
       " 'page': 0,\n",
       " 'page_label': '1'}"
      ]
     },
     "execution_count": 8,
     "metadata": {},
     "output_type": "execute_result"
    }
   ],
   "source": [
    "docs[0].metadata"
   ]
  },
  {
   "cell_type": "code",
   "execution_count": 10,
   "metadata": {},
   "outputs": [
    {
     "name": "stdout",
     "output_type": "stream",
     "text": [
      "Table of Contents\n",
      "UNITED STATES\n",
      "SECURITIES AND EXCHANGE COMMISSION\n",
      "Washington, D.C. 20549\n",
      "FORM 10-K\n",
      "(Mark One)\n",
      "☑  ANNUAL REPORT PURSUANT TO SECTION 13 OR 15(D) OF THE SECURITIES EXCHANGE ACT OF 1934\n",
      "FOR THE FISCAL YEAR ENDED MAY 31, 2023\n",
      "OR\n",
      "☐  TRANSITION REPORT PURSUANT TO SECTION 13 OR 15(D) OF THE SECURITIES EXCHANGE ACT OF 1934\n",
      "FOR THE TRANSITION PERIOD FROM                         TO                         .\n",
      "Commission File No. 1-10635\n",
      "NIKE, Inc.\n",
      "(Exact name of Registrant as specified in its charter)\n",
      "Oregon 93-0584541\n",
      "(State or other jurisdiction of incorporation) (IRS Employer Identification No.)\n",
      "One Bowerman Drive, Beaverton, Oregon 97005-6453\n",
      "(Address of principal executive offices and zip code)\n",
      "(503) 671-6453\n",
      "(Registrant's telephone number, including area code)\n",
      "SECURITIES REGISTERED PURSUANT TO SECTION 12(B) OF THE ACT:\n",
      "Class B Common Stock NKE New York Stock Exchange\n",
      "(Title of each class) (Trading symbol) (Name of each exchange on which registered)\n",
      "SECURITIES REGISTERED PURSUANT TO SECTION 12(G) OF THE ACT:\n",
      "NONE\n",
      "Indicate by check mark: YES NO\n",
      "• if the registrant is a well-known seasoned issuer, as defined in Rule 405 of the Securities Act. þ ¨ \n",
      "• if the registrant is not required to file reports pursuant to Section 13 or Section 15(d) of the Act. ¨ þ \n",
      "• whether the registrant (1) has filed all reports required to be filed by Section 13 or 15(d) of the Securities Exchange Act of 1934 during the preceding\n",
      "12 months (or for such shorter period that the registrant was required to file such reports), and (2) has been subject to such filing requirements for the\n",
      "past 90 days.\n",
      "þ ¨ \n",
      "• whether the registrant has submitted electronically every Interactive Data File required to be submitted pursuant to Rule 405 of Regulation S-T\n",
      "(§232.405 of this chapter) during the preceding 12 months (or for such shorter period that the registrant was required to submit such files).\n",
      "þ ¨ \n",
      "• whether the registrant is a large accelerated filer, an accelerated filer, a non-accelerated filer, a smaller reporting company or an emerging growth company. See the definitions of “large accelerated filer,”\n",
      "“accelerated filer,” “smaller reporting company,” and “emerging growth company” in Rule 12b-2 of the Exchange Act.\n",
      "Large accelerated filer þ Accelerated filer ☐ Non-accelerated filer ☐ Smaller reporting company ☐ Emerging growth company ☐ \n",
      "• if an emerging growth company, if the registrant has elected not to use the extended transition period for complying with any new or revised financial\n",
      "accounting standards provided pursuant to Section 13(a) of the Exchange Act.\n",
      "¨ \n",
      "• whether the registrant has filed a report on and attestation to its management's assessment of the effectiveness of its internal control over financial\n",
      "reporting under Section 404(b) of the Sarbanes-Oxley Act (15 U.S.C. 7262(b)) by the registered public accounting firm that prepared or issued its audit\n",
      "report.\n",
      "þ \n",
      "• if securities are registered pursuant to Section 12(b) of the Act, whether the financial statements of the registrant included in the filing reflect the\n",
      "correction of an error to previously issued financial statements.\n",
      "¨ \n",
      "• whether any of those error corrections are restatements that required a recovery analysis of incentive-based compensation received by any of the\n",
      "registrant's executive officers during the relevant recovery period pursuant to § 240.10D-1(b).\n",
      "¨ \n",
      "• whether the registrant is a shell company (as defined in Rule 12b-2 of the Act). ☐ þ \n",
      "As of November 30, 2022, the aggregate market values of the Registrant's Common Stock held by non-affiliates were:\n",
      "Class A $ 7,831,564,572 \n",
      "Class B 136,467,702,472 \n",
      "$ 144,299,267,044\n"
     ]
    }
   ],
   "source": [
    "print(docs[0].page_content)"
   ]
  },
  {
   "cell_type": "markdown",
   "metadata": {},
   "source": [
    "## Text Splitter"
   ]
  },
  {
   "cell_type": "code",
   "execution_count": 11,
   "metadata": {},
   "outputs": [],
   "source": [
    "from langchain_text_splitters import RecursiveCharacterTextSplitter"
   ]
  },
  {
   "cell_type": "code",
   "execution_count": 12,
   "metadata": {},
   "outputs": [
    {
     "data": {
      "text/plain": [
       "516"
      ]
     },
     "execution_count": 12,
     "metadata": {},
     "output_type": "execute_result"
    }
   ],
   "source": [
    "text_splitter = RecursiveCharacterTextSplitter(\n",
    "    chunk_size=1000, chunk_overlap=200, add_start_index=True\n",
    ")\n",
    "all_splits = text_splitter.split_documents(docs)\n",
    "\n",
    "len(all_splits)"
   ]
  },
  {
   "cell_type": "markdown",
   "metadata": {},
   "source": [
    "## Embeddings"
   ]
  },
  {
   "cell_type": "code",
   "execution_count": 13,
   "metadata": {},
   "outputs": [],
   "source": [
    "from langchain_ollama import OllamaEmbeddings"
   ]
  },
  {
   "cell_type": "code",
   "execution_count": 19,
   "metadata": {},
   "outputs": [
    {
     "data": {
      "text/plain": [
       "'http://192.168.11.8:11434'"
      ]
     },
     "execution_count": 19,
     "metadata": {},
     "output_type": "execute_result"
    }
   ],
   "source": [
    "# 远程Ollama服务ip\n",
    "import platform\n",
    "REMOTE_HOST = \"192.168.11.8\" if platform.system() == \"Linux\" else \"127.0.0.1\"\n",
    "# Ollama服务端口\n",
    "OLLAMA_PORT = 11434\n",
    "base_url=f\"http://{REMOTE_HOST}:{OLLAMA_PORT}\"\n",
    "base_url"
   ]
  },
  {
   "cell_type": "code",
   "execution_count": 20,
   "metadata": {},
   "outputs": [],
   "source": [
    "embeddings = OllamaEmbeddings(model=\"deepseek-r1:8b\", base_url=base_url)"
   ]
  },
  {
   "cell_type": "code",
   "execution_count": 21,
   "metadata": {},
   "outputs": [
    {
     "data": {
      "text/plain": [
       "OllamaEmbeddings(model='deepseek-r1:8b', base_url='http://192.168.11.8:11434', client_kwargs={}, mirostat=None, mirostat_eta=None, mirostat_tau=None, num_ctx=None, num_gpu=None, num_thread=None, repeat_last_n=None, repeat_penalty=None, temperature=None, stop=None, tfs_z=None, top_k=None, top_p=None)"
      ]
     },
     "execution_count": 21,
     "metadata": {},
     "output_type": "execute_result"
    }
   ],
   "source": [
    "embeddings"
   ]
  },
  {
   "cell_type": "code",
   "execution_count": 33,
   "metadata": {},
   "outputs": [
    {
     "name": "stdout",
     "output_type": "stream",
     "text": [
      "Generated vectors of length 4096\n",
      "\n",
      "[-0.0003399349, -0.023435304, -0.0019291437, 0.0007058404, -0.00543917, -0.022657108, 0.0072528343, -0.009554426, 0.0035034816, 0.009167676]\n"
     ]
    }
   ],
   "source": [
    "vector_1 = embeddings.embed_query(all_splits[0].page_content)\n",
    "vector_2 = embeddings.embed_query(all_splits[1].page_content)\n",
    "\n",
    "assert len(vector_1) == len(vector_2)\n",
    "print(f\"Generated vectors of length {len(vector_1)}\\n\")\n",
    "print(vector_1[:10])"
   ]
  },
  {
   "cell_type": "code",
   "execution_count": 34,
   "metadata": {},
   "outputs": [
    {
     "data": {
      "text/plain": [
       "4096"
      ]
     },
     "execution_count": 34,
     "metadata": {},
     "output_type": "execute_result"
    }
   ],
   "source": [
    "len(vector_1)"
   ]
  },
  {
   "cell_type": "markdown",
   "metadata": {},
   "source": [
    "## Vector stores"
   ]
  },
  {
   "cell_type": "code",
   "execution_count": 35,
   "metadata": {},
   "outputs": [],
   "source": [
    "from langchain_core.vectorstores import InMemoryVectorStore"
   ]
  },
  {
   "cell_type": "code",
   "execution_count": 36,
   "metadata": {},
   "outputs": [],
   "source": [
    "vector_store = InMemoryVectorStore(embeddings)"
   ]
  },
  {
   "cell_type": "code",
   "execution_count": 37,
   "metadata": {},
   "outputs": [
    {
     "data": {
      "text/plain": [
       "516"
      ]
     },
     "execution_count": 37,
     "metadata": {},
     "output_type": "execute_result"
    }
   ],
   "source": [
    "ids = vector_store.add_documents(documents=all_splits)\n",
    "len(ids)"
   ]
  },
  {
   "cell_type": "code",
   "execution_count": 43,
   "metadata": {},
   "outputs": [
    {
     "data": {
      "text/plain": [
       "['2ef43ee0-73d5-4a05-a4d3-6da5aca1263a',\n",
       " '7c05bc1f-7ec3-4e55-affa-d8ff2bd2d6c6',\n",
       " 'b6c25a0b-7b00-48b5-a7ce-fd9d3a22a6a6',\n",
       " 'd6d22fa2-db2e-48e3-ad90-0da6c0f77ca2',\n",
       " 'e37cb167-de4f-4683-9222-9d133ca00fae']"
      ]
     },
     "execution_count": 43,
     "metadata": {},
     "output_type": "execute_result"
    }
   ],
   "source": [
    "ids[:5]"
   ]
  },
  {
   "cell_type": "code",
   "execution_count": 46,
   "metadata": {},
   "outputs": [
    {
     "name": "stdout",
     "output_type": "stream",
     "text": [
      "page_content='polyester and natural fiber textiles and polyurethane films — are locally available to manufacturers. The principal materials used in our apparel products — natural and\n",
      "synthetic fabrics, yarns and threads (both virgin and recycled), specialized performance fabrics designed to efficiently wick moisture away from the body, retain heat and\n",
      "repel rain and/or snow as well as plastic and metal hardware — are also available in countries where our manufacturing takes place. Both our apparel and footwear\n",
      "products are dependent upon the ability of our contract manufacturers to locate, train, employ and retain adequate personnel. NIKE contract manufacturers and materials\n",
      "suppliers buy raw materials and are subject to wage rates and other labor standards that are oftentimes regulated by the governments of the countries in which our\n",
      "products are manufactured.' metadata={'producer': 'EDGRpdf Service w/ EO.Pdf 22.0.40.0', 'creator': 'EDGAR Filing HTML Converter', 'creationdate': '2023-07-20T16:22:00-04:00', 'title': '0000320187-23-000039', 'author': 'EDGAR Online, a division of Donnelley Financial Solutions', 'subject': 'Form 10-K filed on 2023-07-20 for the period ending 2023-05-31', 'keywords': '0000320187-23-000039; ; 10-K', 'moddate': '2023-07-20T16:22:08-04:00', 'source': 'pdf/nke-10k-2023.pdf', 'total_pages': 107, 'page': 20, 'page_label': '21', 'start_index': 5117}\n"
     ]
    }
   ],
   "source": [
    "results = vector_store.similarity_search(\n",
    "    \"How many distribution centers does Nike have in the US?\"\n",
    ")\n",
    "\n",
    "print(results[0])"
   ]
  },
  {
   "cell_type": "code",
   "execution_count": 49,
   "metadata": {},
   "outputs": [
    {
     "name": "stdout",
     "output_type": "stream",
     "text": [
      "dict_keys(['producer', 'creator', 'creationdate', 'title', 'author', 'subject', 'keywords', 'moddate', 'source', 'total_pages', 'page', 'page_label', 'start_index'])\n"
     ]
    }
   ],
   "source": [
    "print(results[0].metadata.keys())"
   ]
  },
  {
   "cell_type": "code",
   "execution_count": 47,
   "metadata": {},
   "outputs": [
    {
     "name": "stdout",
     "output_type": "stream",
     "text": [
      "page_content='approximate amounts of base compensation and minimum guaranteed royalty fees we are obligated to pay athlete, public figure, sport team and league\n",
      "endorsers of our products. Actual payments under some contracts may be higher than these amounts as these contracts provide for bonuses to be paid to the\n",
      "endorsers based upon athletic achievements and/or royalties on product sales in future periods. Actual payments under some contracts may also be lower as\n",
      "these contracts include provisions for reduced payments if athletic performance declines in future periods. In addition to the cash payments, we are obligated to\n",
      "furnish our endorsers with NIKE product for their use. It is not possible to determine how much we will spend on this product on an annual basis as the amount\n",
      "of product provided to the endorsers will depend on many factors and the contracts generally do not stipulate a minimum amount of cash to be spent on the\n",
      "product.' metadata={'producer': 'EDGRpdf Service w/ EO.Pdf 22.0.40.0', 'creator': 'EDGAR Filing HTML Converter', 'creationdate': '2023-07-20T16:22:00-04:00', 'title': '0000320187-23-000039', 'author': 'EDGAR Online, a division of Donnelley Financial Solutions', 'subject': 'Form 10-K filed on 2023-07-20 for the period ending 2023-05-31', 'keywords': '0000320187-23-000039; ; 10-K', 'moddate': '2023-07-20T16:22:08-04:00', 'source': 'pdf/nke-10k-2023.pdf', 'total_pages': 107, 'page': 48, 'page_label': '49', 'start_index': 850}\n"
     ]
    }
   ],
   "source": [
    "results = await vector_store.asimilarity_search(\"When was Nike incorporated?\")\n",
    "\n",
    "print(results[0])"
   ]
  },
  {
   "cell_type": "code",
   "execution_count": 50,
   "metadata": {},
   "outputs": [
    {
     "name": "stdout",
     "output_type": "stream",
     "text": [
      "Score: 0.39230263594464876\n",
      "\n",
      "page_content='Table of Contents\n",
      "NORTH AMERICA\n",
      "(Dollars in millions) FISCAL 2023 FISCAL 2022 % CHANGE\n",
      "% CHANGEEXCLUDINGCURRENCYCHANGESFISCAL 2021 % CHANGE\n",
      "% CHANGEEXCLUDINGCURRENCYCHANGES\n",
      "Revenues by:\n",
      "Footwear $ 14,897 $ 12,228 22 % 22 %$ 11,644 5 % 5 %\n",
      "Apparel 5,947 5,492 8 % 9 % 5,028 9 % 9 %\n",
      "Equipment 764 633 21 % 21 % 507 25 % 25 %\n",
      "TOTAL REVENUES $ 21,608 $ 18,353 18 % 18 %$ 17,179 7 % 7 %\n",
      "Revenues by:    \n",
      "Sales to Wholesale Customers $ 11,273 $ 9,621 17 % 18 %$ 10,186 -6 % -6 %\n",
      "Sales through NIKE Direct 10,335 8,732 18 % 18 % 6,993 25 % 25 %\n",
      "TOTAL REVENUES $ 21,608 $ 18,353 18 % 18 %$ 17,179 7 % 7 %\n",
      "EARNINGS BEFORE INTEREST AND TAXES $ 5,454 $ 5,114 7 % $ 5,089 0 %\n",
      "FISCAL 2023 COMPARED TO FISCAL 2022\n",
      "• North America revenues increased 18% on a currency-neutral basis, primarily due to higher revenues in Men's and the Jordan Brand. NIKE Direct revenues\n",
      "increased 18%, driven by strong digital sales growth of 23%, comparable store sales growth of 9% and the addition of new stores.' metadata={'producer': 'EDGRpdf Service w/ EO.Pdf 22.0.40.0', 'creator': 'EDGAR Filing HTML Converter', 'creationdate': '2023-07-20T16:22:00-04:00', 'title': '0000320187-23-000039', 'author': 'EDGAR Online, a division of Donnelley Financial Solutions', 'subject': 'Form 10-K filed on 2023-07-20 for the period ending 2023-05-31', 'keywords': '0000320187-23-000039; ; 10-K', 'moddate': '2023-07-20T16:22:08-04:00', 'source': 'pdf/nke-10k-2023.pdf', 'total_pages': 107, 'page': 39, 'page_label': '40', 'start_index': 0}\n"
     ]
    }
   ],
   "source": [
    "results = vector_store.similarity_search_with_score(\"What was Nike's revenue in 2023?\")\n",
    "doc, score = results[0]\n",
    "print(f\"Score: {score}\\n\")\n",
    "print(doc)"
   ]
  },
  {
   "cell_type": "code",
   "execution_count": 51,
   "metadata": {},
   "outputs": [
    {
     "name": "stdout",
     "output_type": "stream",
     "text": [
      "page_content='Table of Contents\n",
      "NORTH AMERICA\n",
      "(Dollars in millions) FISCAL 2023 FISCAL 2022 % CHANGE\n",
      "% CHANGEEXCLUDINGCURRENCYCHANGESFISCAL 2021 % CHANGE\n",
      "% CHANGEEXCLUDINGCURRENCYCHANGES\n",
      "Revenues by:\n",
      "Footwear $ 14,897 $ 12,228 22 % 22 %$ 11,644 5 % 5 %\n",
      "Apparel 5,947 5,492 8 % 9 % 5,028 9 % 9 %\n",
      "Equipment 764 633 21 % 21 % 507 25 % 25 %\n",
      "TOTAL REVENUES $ 21,608 $ 18,353 18 % 18 %$ 17,179 7 % 7 %\n",
      "Revenues by:    \n",
      "Sales to Wholesale Customers $ 11,273 $ 9,621 17 % 18 %$ 10,186 -6 % -6 %\n",
      "Sales through NIKE Direct 10,335 8,732 18 % 18 % 6,993 25 % 25 %\n",
      "TOTAL REVENUES $ 21,608 $ 18,353 18 % 18 %$ 17,179 7 % 7 %\n",
      "EARNINGS BEFORE INTEREST AND TAXES $ 5,454 $ 5,114 7 % $ 5,089 0 %\n",
      "FISCAL 2023 COMPARED TO FISCAL 2022\n",
      "• North America revenues increased 18% on a currency-neutral basis, primarily due to higher revenues in Men's and the Jordan Brand. NIKE Direct revenues\n",
      "increased 18%, driven by strong digital sales growth of 23%, comparable store sales growth of 9% and the addition of new stores.' metadata={'producer': 'EDGRpdf Service w/ EO.Pdf 22.0.40.0', 'creator': 'EDGAR Filing HTML Converter', 'creationdate': '2023-07-20T16:22:00-04:00', 'title': '0000320187-23-000039', 'author': 'EDGAR Online, a division of Donnelley Financial Solutions', 'subject': 'Form 10-K filed on 2023-07-20 for the period ending 2023-05-31', 'keywords': '0000320187-23-000039; ; 10-K', 'moddate': '2023-07-20T16:22:08-04:00', 'source': 'pdf/nke-10k-2023.pdf', 'total_pages': 107, 'page': 39, 'page_label': '40', 'start_index': 0}\n"
     ]
    }
   ],
   "source": [
    "embedding = embeddings.embed_query(\"How were Nike's margins impacted in 2023?\")\n",
    "\n",
    "results = vector_store.similarity_search_by_vector(embedding)\n",
    "print(results[0])"
   ]
  }
 ],
 "metadata": {
  "kernelspec": {
   "display_name": "langchain",
   "language": "python",
   "name": "python3"
  },
  "language_info": {
   "codemirror_mode": {
    "name": "ipython",
    "version": 3
   },
   "file_extension": ".py",
   "mimetype": "text/x-python",
   "name": "python",
   "nbconvert_exporter": "python",
   "pygments_lexer": "ipython3",
   "version": "3.13.2"
  }
 },
 "nbformat": 4,
 "nbformat_minor": 2
}
