{
 "cells": [
  {
   "cell_type": "markdown",
   "metadata": {},
   "source": [
    "#### Unset common proxy environment variables"
   ]
  },
  {
   "cell_type": "code",
   "execution_count": 2,
   "metadata": {},
   "outputs": [],
   "source": [
    "import os\n",
    "\n",
    "proxy_vars = [\n",
    "    'http_proxy',\n",
    "    'https_proxy',\n",
    "    'ftp_proxy',\n",
    "    'all_proxy',\n",
    "    'HTTP_PROXY', \n",
    "    'HTTPS_PROXY',\n",
    "    'FTP_PROXY',\n",
    "    'ALL_PROXY',\n",
    "    'SOCKS_PROXY',\n",
    "    'socks_proxy'\n",
    "]\n",
    "\n",
    "for var in proxy_vars:\n",
    "    if var in os.environ:\n",
    "        del os.environ[var]"
   ]
  },
  {
   "cell_type": "code",
   "execution_count": 6,
   "metadata": {},
   "outputs": [],
   "source": [
    "from langchain_core.documents import Document"
   ]
  },
  {
   "cell_type": "code",
   "execution_count": 3,
   "metadata": {},
   "outputs": [],
   "source": [
    "# Create example documents about pets with metadata\n",
    "documents = [\n",
    "    Document(\n",
    "        page_content=\"Dogs are great companions, known for their loyalty and friendliness.\",\n",
    "        metadata={\"source\": \"mammal-pets-doc\"},\n",
    "    ),\n",
    "    Document(\n",
    "        page_content=\"Cats are independent pets that often enjoy their own space.\",\n",
    "        metadata={\"source\": \"mammal-pets-doc\"},\n",
    "    ),\n",
    "]"
   ]
  },
  {
   "cell_type": "code",
   "execution_count": null,
   "metadata": {},
   "outputs": [],
   "source": [
    "documents"
   ]
  },
  {
   "cell_type": "code",
   "execution_count": null,
   "metadata": {},
   "outputs": [],
   "source": [
    "type(documents[0])"
   ]
  },
  {
   "cell_type": "markdown",
   "metadata": {},
   "source": [
    "## PDF Loader\n"
   ]
  },
  {
   "cell_type": "code",
   "execution_count": 2,
   "metadata": {},
   "outputs": [],
   "source": [
    "from langchain_community.document_loaders import PyPDFLoader"
   ]
  },
  {
   "cell_type": "code",
   "execution_count": null,
   "metadata": {},
   "outputs": [],
   "source": [
    "file_path = \"pdf/nke-10k-2023.pdf\"\n",
    "\n",
    "loader = PyPDFLoader(file_path)\n",
    "\n",
    "docs = loader.load()\n",
    "\n",
    "print(len(docs))"
   ]
  },
  {
   "cell_type": "code",
   "execution_count": null,
   "metadata": {},
   "outputs": [],
   "source": [
    "docs[0].metadata"
   ]
  },
  {
   "cell_type": "code",
   "execution_count": null,
   "metadata": {},
   "outputs": [],
   "source": [
    "print(docs[0].page_content)"
   ]
  },
  {
   "cell_type": "markdown",
   "metadata": {},
   "source": [
    "## Text Splitter"
   ]
  },
  {
   "cell_type": "code",
   "execution_count": 3,
   "metadata": {},
   "outputs": [],
   "source": [
    "from langchain_text_splitters import RecursiveCharacterTextSplitter"
   ]
  },
  {
   "cell_type": "code",
   "execution_count": null,
   "metadata": {},
   "outputs": [],
   "source": [
    "text_splitter = RecursiveCharacterTextSplitter(\n",
    "    chunk_size=1000, chunk_overlap=200, add_start_index=True\n",
    ")\n",
    "all_splits = text_splitter.split_documents(docs)\n",
    "\n",
    "len(all_splits)"
   ]
  },
  {
   "cell_type": "markdown",
   "metadata": {},
   "source": [
    "## Embeddings"
   ]
  },
  {
   "cell_type": "code",
   "execution_count": 8,
   "metadata": {},
   "outputs": [],
   "source": [
    "from langchain_ollama import OllamaEmbeddings"
   ]
  },
  {
   "cell_type": "code",
   "execution_count": 9,
   "metadata": {},
   "outputs": [
    {
     "data": {
      "text/plain": [
       "'http://127.0.0.1:11434'"
      ]
     },
     "execution_count": 9,
     "metadata": {},
     "output_type": "execute_result"
    }
   ],
   "source": [
    "# 远程Ollama服务ip\n",
    "import platform\n",
    "REMOTE_HOST = \"192.168.11.8\" if platform.system() == \"Linux\" else \"127.0.0.1\"\n",
    "# Ollama服务端口\n",
    "OLLAMA_PORT = 11434\n",
    "base_url=f\"http://{REMOTE_HOST}:{OLLAMA_PORT}\"\n",
    "base_url"
   ]
  },
  {
   "cell_type": "code",
   "execution_count": 10,
   "metadata": {},
   "outputs": [],
   "source": [
    "embeddings = OllamaEmbeddings(model=\"deepseek-r1:8b\", base_url=base_url)"
   ]
  },
  {
   "cell_type": "code",
   "execution_count": 11,
   "metadata": {},
   "outputs": [
    {
     "data": {
      "text/plain": [
       "OllamaEmbeddings(model='deepseek-r1:8b', base_url='http://127.0.0.1:11434', client_kwargs={}, mirostat=None, mirostat_eta=None, mirostat_tau=None, num_ctx=None, num_gpu=None, num_thread=None, repeat_last_n=None, repeat_penalty=None, temperature=None, stop=None, tfs_z=None, top_k=None, top_p=None)"
      ]
     },
     "execution_count": 11,
     "metadata": {},
     "output_type": "execute_result"
    }
   ],
   "source": [
    "embeddings"
   ]
  },
  {
   "cell_type": "code",
   "execution_count": null,
   "metadata": {},
   "outputs": [],
   "source": [
    "vector_1 = embeddings.embed_query(all_splits[0].page_content)\n",
    "vector_2 = embeddings.embed_query(all_splits[1].page_content)\n",
    "\n",
    "assert len(vector_1) == len(vector_2)\n",
    "print(f\"Generated vectors of length {len(vector_1)}\\n\")\n",
    "print(vector_1[:10])"
   ]
  },
  {
   "cell_type": "code",
   "execution_count": null,
   "metadata": {},
   "outputs": [],
   "source": [
    "len(vector_1)"
   ]
  },
  {
   "cell_type": "markdown",
   "metadata": {},
   "source": [
    "## Vector stores"
   ]
  },
  {
   "cell_type": "code",
   "execution_count": 6,
   "metadata": {},
   "outputs": [],
   "source": [
    "from langchain_core.vectorstores import InMemoryVectorStore"
   ]
  },
  {
   "cell_type": "code",
   "execution_count": 12,
   "metadata": {},
   "outputs": [],
   "source": [
    "vector_store = InMemoryVectorStore(embeddings)"
   ]
  },
  {
   "cell_type": "code",
   "execution_count": null,
   "metadata": {},
   "outputs": [],
   "source": [
    "ids = vector_store.add_documents(documents=all_splits)\n",
    "len(ids)"
   ]
  },
  {
   "cell_type": "code",
   "execution_count": null,
   "metadata": {},
   "outputs": [],
   "source": [
    "ids[:5]"
   ]
  },
  {
   "cell_type": "code",
   "execution_count": null,
   "metadata": {},
   "outputs": [],
   "source": [
    "results = vector_store.similarity_search(\n",
    "    \"How many distribution centers does Nike have in the US?\"\n",
    ")\n",
    "\n",
    "print(results[0])"
   ]
  },
  {
   "cell_type": "code",
   "execution_count": null,
   "metadata": {},
   "outputs": [],
   "source": [
    "print(results[0].metadata.keys())"
   ]
  },
  {
   "cell_type": "code",
   "execution_count": null,
   "metadata": {},
   "outputs": [],
   "source": [
    "results = await vector_store.asimilarity_search(\"When was Nike incorporated?\")\n",
    "\n",
    "print(results[0])"
   ]
  },
  {
   "cell_type": "code",
   "execution_count": null,
   "metadata": {},
   "outputs": [],
   "source": [
    "results = vector_store.similarity_search_with_score(\"What was Nike's revenue in 2023?\")\n",
    "doc, score = results[0]\n",
    "print(f\"Score: {score}\\n\")\n",
    "print(doc)"
   ]
  },
  {
   "cell_type": "code",
   "execution_count": null,
   "metadata": {},
   "outputs": [],
   "source": [
    "embedding = embeddings.embed_query(\"How were Nike's margins impacted in 2023?\")\n",
    "\n",
    "results = vector_store.similarity_search_by_vector(embedding)\n",
    "print(results[0])"
   ]
  },
  {
   "cell_type": "markdown",
   "metadata": {},
   "source": [
    "## Example: My Resume"
   ]
  },
  {
   "cell_type": "code",
   "execution_count": 4,
   "metadata": {},
   "outputs": [
    {
     "name": "stdout",
     "output_type": "stream",
     "text": [
      "1\n"
     ]
    }
   ],
   "source": [
    "file_path_1 = \"pdf/my_resume.pdf\"\n",
    "\n",
    "docs_1 = PyPDFLoader(file_path_1).load()\n",
    "\n",
    "print(len(docs_1))"
   ]
  },
  {
   "cell_type": "code",
   "execution_count": 5,
   "metadata": {},
   "outputs": [
    {
     "name": "stdout",
     "output_type": "stream",
     "text": [
      "page_content='教育背景\n",
      "中国农业大学 \n",
      "985工程 本科 2011.09 - 2016.06\n",
      "车 辆 工 程 汽车电子方向\n",
      "湖北大学 硕士   2021.09 - 2024.06\n",
      "计 算 机 技 术 人工智能方向\n",
      "主修课程 高级软件工程、高级数据库、数据挖掘、数字图像处理、机器学习\n",
      "研究课题\n",
      "多智能体强化学习\n",
      "强化学习\n",
      "深度学习\n",
      "自动驾驶\n",
      "运动规划\n",
      "科研成果 《Multi-Agent Reinforcement Learning with Social Learning for Autonomous Driving》 （SCI一区，审稿中）\n",
      "《Motion Planning for Autonomous Driving: The State of the Art and Future Perspectives》 IEEE TIV，SCI一区，影响因子8.2\n",
      "工作经历\n",
      "成都光恒互动科技有限公司 游戏AI算法工程师\n",
      "实习 2024.01 - 2024.03\n",
      "工作内容 负责棋类游戏AI算法 、 的游戏NPC 等算法的设计 、 研究与开发\n",
      "相关算法： 等\n",
      "相关技术：C++ 、 Python 、 Docker 、 UE5等。\n",
      "NLP驱动 行为决策\n",
      "深度 学习 （有监督 、 CNN） 、 强化 学习 （PPO/DQN）\n",
      "中科 慧拓 （北 京 ）科技有限公司 科研 助理 （ 矿 车自动驾驶）\n",
      "实习 2022.09 - 2022.12\n",
      "工作内容 负 责 协 助 智 慧 矿 山 矿 车 的 产 品 研 发 ， 以 及 基 于 的 多 车 协 同 算 法 研 究 ， 包 括 数\n",
      "据 清 理 和标注，模拟 器 /环境搭建，论文跟进与复现等。\n",
      "自 动 驾 驶 多 智 能 体 强 化 学 习\n",
      "宜昌八达 工程技术 咨询 有限公司 设 计 师\n",
      "全职 201 7  - 2020\n",
      "工作内容 负 责 公 路 、 桥 梁 工 程 的 勘 测 、 设 计 与 造 价 。 能 够 独 立 完 成 设 计 任 务 ， 熟 练 使 用 地 质 勘 测 工 具 ， 累 计 设 计\n",
      "里 程 超 千 公 里 ， 包 括 国 省 道 、 5A 级 景 区 旅 游 公 路 等 。 期 间 还 根 据 本 行 业 特 点 和 业 务 流 程 ， 自 学 VB编 程\n",
      "语言 ， 了一套 基于 VB A的E x ce l 自动化 办公系统 ， 极大提升了 设计 效率 。独立 开发\n",
      "项目 经历\n",
      "AiNotes 独立开发者\n",
      "一款 基于 大语言 模 型( LL M) 的 提醒事项 、 个人备忘 、 智能助 理 A pp （ i O S ，开发 中 ）\n",
      "2023.10 - 至今\n",
      "功 能 特色\n",
      "将 用 户 以 语 音 形 式 输 入 的 备 忘 、 随 想 和 笔 记 转 换 为 文 字 ， 然 后 通 过 大 语 言 模 型 对 其 进 行 分 析 ， 将 其\n",
      "凝练 为 符合逻辑 的 提醒事项 ， 总结 为 核心要点 ， 方便用户整 理 思路 ， 并 进行智能 提醒 。\n",
      "技术实 现 A pp 端 S w i f t ； 后 端 Java ， 负 责 用 户 管 理 、 用 户 请 求 处 理 等 ； 算 法 使 用 Python 并 基 于 开\n",
      "发，负责 提 示词 工程、 结 构 化文 本分析 、 R A G 、 模 型 调 用 等 ； 模 型 端支持 本地 、 云端 、 商 用 API。\n",
      "L a n g Ch a i n\n",
      "i F o cu s 独立开发者\n",
      "一 款 基 于 的 效 率 工 具 和 任 务 管 理 A p p  番 茄 工 作 法\n",
      " 已 上 架 苹 果 A p p S t o r e ， 评 分 4 . 7 / 5\n",
      "2020.02 - 2020.0 5\n",
      "功能特色\n",
      "用 户 可 以 添 加 、 编 辑 需 完 成 的 任 务 ， 设 置 分 类 ， 并 设 定 番 茄 钟 计 时 进 入 专 注 模 式 ， 期 间 可 以 暂 停 、\n",
      "中 止或 提 前 完成 该 任务 ；支持 自动 记 录 并统 计 专 注 时 间 、 次 数、 类 别 等， 并将结 果 图 形 化 展 示 。\n",
      "技术实 现 使 用 S w i f t 语 言 开 发 ， 界 面 基 于 UI K i t， 数 据 库 基 于 Core  D a t a ， 采 用 MV C 架 构 ， 用 户 交 互 舒 适 ， 代 码\n",
      "可读性 强， 代码风格良好 ， 充 分 考虑 了后 续功 能的 迭代 与开发。\n",
      "基于LL M 的 语音转换 + 知识查询 系统 独立开发者 2024\n",
      "项目简介 支 持 会 议 语 音 、 视 频 内 容 转 文 本 ， 以 及 对 内 容 进 行 本 地 化 的 对 话 提 问 。 使 用 O ll a m a 部 署 本 地 大 模\n",
      "型 、 G r a d i o搭建 前 端 页 面 、 L a n g Ch a i n 构 建 工 作 流 和 提 示词 工程、 S q li te进行 数据 持 久 化和 存取 。\n",
      "基于 VB A的E x ce l 自动化 办公系统 独立开发者 201 8\n",
      "项目简介 为 了 解 决 工 程 设 计 行 业 中 E x ce l 表 格 数 据 处 理 的 重 复 性 操 作 ， 实 现 业 务 流 程 自 动 化 ， 基 于 O ffi ce的\n",
      "VB A 平 台 根 据 业 务 需 求 ， 使 用 VB语 言 独 立 开 发 了 一 套 自 动 化 E x ce l办 公 系 统 ， 实 现 了 多 个 设 计 步 骤\n",
      "的自动化 、 表 格 数据 检 查 、 多 表 格 数据 同 步 、 一 键导出 等 功 能， 极大 简 化 了 传 统 的设计 流 程 。\n",
      "基于 嵌 入式 技术的 指纹 识 别 智能 汽 车 门锁 第 一主 持人\n",
      "国 家 级 大 学 生 创 新 创 业 训 练 计 划 项 目 （ 项 目 编 号  2 0 1 4 1 0 0 1 9 0 4 8 ）  \n",
      "2014\n",
      "项目简介 基 于 指 纹 识 别 技 术 的 汽 车 门 锁 控 制 系 统 ， 能 够 通 过 验 证 车 主 指 纹 开 启 车 门 ， 是 一 种 便 捷 快 速 解 锁 车\n",
      "门 的 创新尝试 ，同 时 保证 了 汽 车的 防盗 与 安全 性 。\n",
      "基于 微信 公 众号电 商 平台 的O 2 O 校 内 实践 联合创始人 2013\n",
      "项目简介 负 责 微 信 电 商 平 台 的 开 发 与 运 维 。 我 们 创 建 的 “来 此 购 商 城 ”面 向 校 内 学 生 ， 销 售 水 果 及 生 活 用\n",
      "品 ， 通过线 上 下单+线下送货 上 门 （ 寝室 ） 的 方 式探索  O 2 O  闭环商 业 模式 ， 客户累 计 上 千 人 。\n",
      "邓 鹏\n",
      "求职意向\n",
      " AI算法工程 \n",
      "强化学习 工程 \n",
      "产品经理（ AI /iO S A pp\n",
      "软件开发（ C ++/Python/iO S ）\n",
      "基本信息\n",
      "性别 ： 男\n",
      "城市 ： 武汉\n",
      "籍贯 ： 湖北恩施\n",
      "生日 ： 199 2 .08\n",
      "电 话 ： 1 5 707 2 5 8168\n",
      "邮箱 ： 1 2 1 d en g p en g @163. co m\n",
      "语言能力\n",
      "CE T-4  ( 5 99 )  \n",
      "CET-6  (518)\n",
      "熟 练 阅读英文论文 和 文\n",
      " 能 用英语进行交流\n",
      "技能特长\n",
      "精通Office办公软件、 CA \n",
      "熟练U I /UX设计(Figma\n",
      "掌握P S 、视频剪辑、3D建模\n",
      "擅长 E x ce l数据处 理、PP T 制作与演\n",
      "编程 能力\n",
      "Python\n",
      "PyT orch、RLlib\n",
      "C/C++\n",
      "Git, Lin ux, Docker\n",
      "Swift/SwiftUI\n",
      "为 开 源 项目 贡献 过 代码\n",
      "独立开发者\n",
      "Vim爱好 者\n",
      "自我评价\n",
      "学习能 力 强\n",
      "创新 能 力 强\n",
      "交 叉 学科 背景\n",
      "多学科 思 维\n",
      "有一 定 的 抗压 能 力\n",
      "做事认真 负责' metadata={'source': 'pdf/my_resume.pdf', 'page': 0, 'page_label': '1'}\n"
     ]
    }
   ],
   "source": [
    "print(docs_1[0])"
   ]
  },
  {
   "cell_type": "code",
   "execution_count": 13,
   "metadata": {},
   "outputs": [
    {
     "data": {
      "text/plain": [
       "1"
      ]
     },
     "execution_count": 13,
     "metadata": {},
     "output_type": "execute_result"
    }
   ],
   "source": [
    "ids = vector_store.add_documents(documents=docs_1)\n",
    "len(ids)"
   ]
  },
  {
   "cell_type": "code",
   "execution_count": 14,
   "metadata": {},
   "outputs": [
    {
     "name": "stdout",
     "output_type": "stream",
     "text": [
      "Score: 0.03750337037736621\n",
      "\n",
      "page_content='教育背景\n",
      "中国农业大学 \n",
      "985工程 本科 2011.09 - 2016.06\n",
      "车 辆 工 程 汽车电子方向\n",
      "湖北大学 硕士   2021.09 - 2024.06\n",
      "计 算 机 技 术 人工智能方向\n",
      "主修课程 高级软件工程、高级数据库、数据挖掘、数字图像处理、机器学习\n",
      "研究课题\n",
      "多智能体强化学习\n",
      "强化学习\n",
      "深度学习\n",
      "自动驾驶\n",
      "运动规划\n",
      "科研成果 《Multi-Agent Reinforcement Learning with Social Learning for Autonomous Driving》 （SCI一区，审稿中）\n",
      "《Motion Planning for Autonomous Driving: The State of the Art and Future Perspectives》 IEEE TIV，SCI一区，影响因子8.2\n",
      "工作经历\n",
      "成都光恒互动科技有限公司 游戏AI算法工程师\n",
      "实习 2024.01 - 2024.03\n",
      "工作内容 负责棋类游戏AI算法 、 的游戏NPC 等算法的设计 、 研究与开发\n",
      "相关算法： 等\n",
      "相关技术：C++ 、 Python 、 Docker 、 UE5等。\n",
      "NLP驱动 行为决策\n",
      "深度 学习 （有监督 、 CNN） 、 强化 学习 （PPO/DQN）\n",
      "中科 慧拓 （北 京 ）科技有限公司 科研 助理 （ 矿 车自动驾驶）\n",
      "实习 2022.09 - 2022.12\n",
      "工作内容 负 责 协 助 智 慧 矿 山 矿 车 的 产 品 研 发 ， 以 及 基 于 的 多 车 协 同 算 法 研 究 ， 包 括 数\n",
      "据 清 理 和标注，模拟 器 /环境搭建，论文跟进与复现等。\n",
      "自 动 驾 驶 多 智 能 体 强 化 学 习\n",
      "宜昌八达 工程技术 咨询 有限公司 设 计 师\n",
      "全职 201 7  - 2020\n",
      "工作内容 负 责 公 路 、 桥 梁 工 程 的 勘 测 、 设 计 与 造 价 。 能 够 独 立 完 成 设 计 任 务 ， 熟 练 使 用 地 质 勘 测 工 具 ， 累 计 设 计\n",
      "里 程 超 千 公 里 ， 包 括 国 省 道 、 5A 级 景 区 旅 游 公 路 等 。 期 间 还 根 据 本 行 业 特 点 和 业 务 流 程 ， 自 学 VB编 程\n",
      "语言 ， 了一套 基于 VB A的E x ce l 自动化 办公系统 ， 极大提升了 设计 效率 。独立 开发\n",
      "项目 经历\n",
      "AiNotes 独立开发者\n",
      "一款 基于 大语言 模 型( LL M) 的 提醒事项 、 个人备忘 、 智能助 理 A pp （ i O S ，开发 中 ）\n",
      "2023.10 - 至今\n",
      "功 能 特色\n",
      "将 用 户 以 语 音 形 式 输 入 的 备 忘 、 随 想 和 笔 记 转 换 为 文 字 ， 然 后 通 过 大 语 言 模 型 对 其 进 行 分 析 ， 将 其\n",
      "凝练 为 符合逻辑 的 提醒事项 ， 总结 为 核心要点 ， 方便用户整 理 思路 ， 并 进行智能 提醒 。\n",
      "技术实 现 A pp 端 S w i f t ； 后 端 Java ， 负 责 用 户 管 理 、 用 户 请 求 处 理 等 ； 算 法 使 用 Python 并 基 于 开\n",
      "发，负责 提 示词 工程、 结 构 化文 本分析 、 R A G 、 模 型 调 用 等 ； 模 型 端支持 本地 、 云端 、 商 用 API。\n",
      "L a n g Ch a i n\n",
      "i F o cu s 独立开发者\n",
      "一 款 基 于 的 效 率 工 具 和 任 务 管 理 A p p  番 茄 工 作 法\n",
      " 已 上 架 苹 果 A p p S t o r e ， 评 分 4 . 7 / 5\n",
      "2020.02 - 2020.0 5\n",
      "功能特色\n",
      "用 户 可 以 添 加 、 编 辑 需 完 成 的 任 务 ， 设 置 分 类 ， 并 设 定 番 茄 钟 计 时 进 入 专 注 模 式 ， 期 间 可 以 暂 停 、\n",
      "中 止或 提 前 完成 该 任务 ；支持 自动 记 录 并统 计 专 注 时 间 、 次 数、 类 别 等， 并将结 果 图 形 化 展 示 。\n",
      "技术实 现 使 用 S w i f t 语 言 开 发 ， 界 面 基 于 UI K i t， 数 据 库 基 于 Core  D a t a ， 采 用 MV C 架 构 ， 用 户 交 互 舒 适 ， 代 码\n",
      "可读性 强， 代码风格良好 ， 充 分 考虑 了后 续功 能的 迭代 与开发。\n",
      "基于LL M 的 语音转换 + 知识查询 系统 独立开发者 2024\n",
      "项目简介 支 持 会 议 语 音 、 视 频 内 容 转 文 本 ， 以 及 对 内 容 进 行 本 地 化 的 对 话 提 问 。 使 用 O ll a m a 部 署 本 地 大 模\n",
      "型 、 G r a d i o搭建 前 端 页 面 、 L a n g Ch a i n 构 建 工 作 流 和 提 示词 工程、 S q li te进行 数据 持 久 化和 存取 。\n",
      "基于 VB A的E x ce l 自动化 办公系统 独立开发者 201 8\n",
      "项目简介 为 了 解 决 工 程 设 计 行 业 中 E x ce l 表 格 数 据 处 理 的 重 复 性 操 作 ， 实 现 业 务 流 程 自 动 化 ， 基 于 O ffi ce的\n",
      "VB A 平 台 根 据 业 务 需 求 ， 使 用 VB语 言 独 立 开 发 了 一 套 自 动 化 E x ce l办 公 系 统 ， 实 现 了 多 个 设 计 步 骤\n",
      "的自动化 、 表 格 数据 检 查 、 多 表 格 数据 同 步 、 一 键导出 等 功 能， 极大 简 化 了 传 统 的设计 流 程 。\n",
      "基于 嵌 入式 技术的 指纹 识 别 智能 汽 车 门锁 第 一主 持人\n",
      "国 家 级 大 学 生 创 新 创 业 训 练 计 划 项 目 （ 项 目 编 号  2 0 1 4 1 0 0 1 9 0 4 8 ）  \n",
      "2014\n",
      "项目简介 基 于 指 纹 识 别 技 术 的 汽 车 门 锁 控 制 系 统 ， 能 够 通 过 验 证 车 主 指 纹 开 启 车 门 ， 是 一 种 便 捷 快 速 解 锁 车\n",
      "门 的 创新尝试 ，同 时 保证 了 汽 车的 防盗 与 安全 性 。\n",
      "基于 微信 公 众号电 商 平台 的O 2 O 校 内 实践 联合创始人 2013\n",
      "项目简介 负 责 微 信 电 商 平 台 的 开 发 与 运 维 。 我 们 创 建 的 “来 此 购 商 城 ”面 向 校 内 学 生 ， 销 售 水 果 及 生 活 用\n",
      "品 ， 通过线 上 下单+线下送货 上 门 （ 寝室 ） 的 方 式探索  O 2 O  闭环商 业 模式 ， 客户累 计 上 千 人 。\n",
      "邓 鹏\n",
      "求职意向\n",
      " AI算法工程 \n",
      "强化学习 工程 \n",
      "产品经理（ AI /iO S A pp\n",
      "软件开发（ C ++/Python/iO S ）\n",
      "基本信息\n",
      "性别 ： 男\n",
      "城市 ： 武汉\n",
      "籍贯 ： 湖北恩施\n",
      "生日 ： 199 2 .08\n",
      "电 话 ： 1 5 707 2 5 8168\n",
      "邮箱 ： 1 2 1 d en g p en g @163. co m\n",
      "语言能力\n",
      "CE T-4  ( 5 99 )  \n",
      "CET-6  (518)\n",
      "熟 练 阅读英文论文 和 文\n",
      " 能 用英语进行交流\n",
      "技能特长\n",
      "精通Office办公软件、 CA \n",
      "熟练U I /UX设计(Figma\n",
      "掌握P S 、视频剪辑、3D建模\n",
      "擅长 E x ce l数据处 理、PP T 制作与演\n",
      "编程 能力\n",
      "Python\n",
      "PyT orch、RLlib\n",
      "C/C++\n",
      "Git, Lin ux, Docker\n",
      "Swift/SwiftUI\n",
      "为 开 源 项目 贡献 过 代码\n",
      "独立开发者\n",
      "Vim爱好 者\n",
      "自我评价\n",
      "学习能 力 强\n",
      "创新 能 力 强\n",
      "交 叉 学科 背景\n",
      "多学科 思 维\n",
      "有一 定 的 抗压 能 力\n",
      "做事认真 负责' metadata={'source': 'pdf/my_resume.pdf', 'page': 0, 'page_label': '1'}\n"
     ]
    }
   ],
   "source": [
    "results = vector_store.similarity_search_with_score(\"US\")\n",
    "doc, score = results[0]\n",
    "print(f\"Score: {score}\\n\")\n",
    "print(doc)"
   ]
  },
  {
   "cell_type": "code",
   "execution_count": 17,
   "metadata": {},
   "outputs": [],
   "source": [
    "import bs4\n",
    "from langchain_community.document_loaders import WebBaseLoader"
   ]
  },
  {
   "cell_type": "code",
   "execution_count": 18,
   "metadata": {},
   "outputs": [
    {
     "data": {
      "text/plain": [
       "1"
      ]
     },
     "execution_count": 18,
     "metadata": {},
     "output_type": "execute_result"
    }
   ],
   "source": [
    "loader = WebBaseLoader(\n",
    "    web_paths=(\"https://lilianweng.github.io/posts/2023-06-23-agent/\",),\n",
    "    # web_paths=(\"https://www.cnblogs.com/Chilam007/p/18692699\",),\n",
    "    bs_kwargs=dict(\n",
    "        parse_only=bs4.SoupStrainer(\n",
    "            class_=(\"post-content\", \"post-title\", \"post-header\")\n",
    "        )\n",
    "    ),\n",
    ")\n",
    "docs = loader.load()\n",
    "len(docs)"
   ]
  },
  {
   "cell_type": "code",
   "execution_count": 19,
   "metadata": {},
   "outputs": [
    {
     "data": {
      "text/plain": [
       "66"
      ]
     },
     "execution_count": 19,
     "metadata": {},
     "output_type": "execute_result"
    }
   ],
   "source": [
    "text_splitter = RecursiveCharacterTextSplitter(chunk_size=1000, chunk_overlap=200)\n",
    "all_splits = text_splitter.split_documents(docs)\n",
    "len(all_splits)"
   ]
  },
  {
   "cell_type": "code",
   "execution_count": 20,
   "metadata": {},
   "outputs": [],
   "source": [
    "_ = vector_store.add_documents(documents=all_splits)"
   ]
  }
 ],
 "metadata": {
  "kernelspec": {
   "display_name": "Python 3",
   "language": "python",
   "name": "python3"
  },
  "language_info": {
   "codemirror_mode": {
    "name": "ipython",
    "version": 3
   },
   "file_extension": ".py",
   "mimetype": "text/x-python",
   "name": "python",
   "nbconvert_exporter": "python",
   "pygments_lexer": "ipython3",
   "version": "3.11.5"
  }
 },
 "nbformat": 4,
 "nbformat_minor": 2
}
